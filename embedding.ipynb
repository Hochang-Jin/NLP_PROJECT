{
 "cells": [
  {
   "cell_type": "code",
   "execution_count": 2,
   "metadata": {
    "collapsed": true,
    "ExecuteTime": {
     "end_time": "2023-11-09T08:46:24.525471500Z",
     "start_time": "2023-11-09T08:46:23.342208600Z"
    }
   },
   "outputs": [],
   "source": [
    "\n",
    "from gensim.models.word2vec import Word2Vec"
   ]
  },
  {
   "cell_type": "code",
   "execution_count": 2,
   "outputs": [],
   "source": [
    "from konlpy.tag import Okt"
   ],
   "metadata": {
    "collapsed": false,
    "ExecuteTime": {
     "end_time": "2023-11-09T06:55:55.634603600Z",
     "start_time": "2023-11-09T06:55:55.589105Z"
    }
   }
  },
  {
   "cell_type": "code",
   "execution_count": 1,
   "outputs": [],
   "source": [
    "import os"
   ],
   "metadata": {
    "collapsed": false,
    "ExecuteTime": {
     "end_time": "2023-11-09T07:19:22.618259100Z",
     "start_time": "2023-11-09T07:19:22.610297Z"
    }
   }
  },
  {
   "cell_type": "code",
   "execution_count": 2,
   "outputs": [
    {
     "data": {
      "text/plain": "'C:\\\\Program Files\\\\Java\\\\jdk-20'"
     },
     "execution_count": 2,
     "metadata": {},
     "output_type": "execute_result"
    }
   ],
   "source": [
    "os.environ['JAVA_HOME']"
   ],
   "metadata": {
    "collapsed": false,
    "ExecuteTime": {
     "end_time": "2023-11-09T07:19:38.518540500Z",
     "start_time": "2023-11-09T07:19:38.504443300Z"
    }
   }
  },
  {
   "cell_type": "code",
   "execution_count": null,
   "outputs": [],
   "source": [
    "okt = Okt()"
   ],
   "metadata": {
    "collapsed": false,
    "is_executing": true,
    "ExecuteTime": {
     "start_time": "2023-11-09T06:56:02.464699300Z"
    }
   }
  },
  {
   "cell_type": "code",
   "execution_count": 3,
   "outputs": [],
   "source": [
    "model = Word2Vec.load('model/2sentences.model')"
   ],
   "metadata": {
    "collapsed": false,
    "ExecuteTime": {
     "end_time": "2023-11-09T08:46:27.665650400Z",
     "start_time": "2023-11-09T08:46:27.639640500Z"
    }
   }
  },
  {
   "cell_type": "code",
   "execution_count": 4,
   "outputs": [],
   "source": [
    "vocab_list = model.wv.index_to_key"
   ],
   "metadata": {
    "collapsed": false,
    "ExecuteTime": {
     "end_time": "2023-11-09T08:46:34.749455300Z",
     "start_time": "2023-11-09T08:46:34.741450700Z"
    }
   }
  },
  {
   "cell_type": "code",
   "execution_count": 5,
   "outputs": [
    {
     "data": {
      "text/plain": "['하다',\n '을',\n '나',\n '.',\n '들',\n '는',\n '이',\n '그',\n '친구',\n '사용',\n '선물',\n '은',\n '내',\n '가',\n '잘',\n '책',\n '것',\n '의',\n '바탕',\n '으로',\n '별명',\n '하고',\n '좋다',\n '있다',\n '때문',\n '에',\n '주다',\n '철학자',\n '사람',\n '에게',\n '치타',\n '라고',\n '불다',\n '기분',\n '말']"
     },
     "execution_count": 5,
     "metadata": {},
     "output_type": "execute_result"
    }
   ],
   "source": [
    "vocab_list"
   ],
   "metadata": {
    "collapsed": false,
    "ExecuteTime": {
     "end_time": "2023-11-09T08:46:36.345360700Z",
     "start_time": "2023-11-09T08:46:36.322356100Z"
    }
   }
  },
  {
   "cell_type": "code",
   "execution_count": 6,
   "outputs": [],
   "source": [
    "eng_model = Word2Vec.load('model/engsentence.model')"
   ],
   "metadata": {
    "collapsed": false,
    "ExecuteTime": {
     "end_time": "2023-11-09T08:46:39.218195400Z",
     "start_time": "2023-11-09T08:46:39.204193700Z"
    }
   }
  },
  {
   "cell_type": "code",
   "execution_count": 7,
   "outputs": [],
   "source": [
    "eng_list = eng_model.wv.index_to_key"
   ],
   "metadata": {
    "collapsed": false,
    "ExecuteTime": {
     "end_time": "2023-11-09T08:46:40.388682Z",
     "start_time": "2023-11-09T08:46:40.376679500Z"
    }
   }
  },
  {
   "cell_type": "code",
   "execution_count": 8,
   "outputs": [
    {
     "data": {
      "text/plain": "['i',\n 'that',\n 'a',\n 'because',\n 'nickname',\n 'using',\n 'are',\n 'they',\n 'cheetah',\n 'on',\n 'me',\n 'call',\n 'people',\n 'when',\n 'happy',\n 'feel',\n 'based',\n 'gift',\n 'as',\n 'am',\n 'good',\n 'at',\n 'told',\n 'my',\n 'friends',\n 'will',\n 'give',\n 'you',\n 'the',\n 'philosopher',\n 's',\n 'book',\n 'something']"
     },
     "execution_count": 8,
     "metadata": {},
     "output_type": "execute_result"
    }
   ],
   "source": [
    "eng_list"
   ],
   "metadata": {
    "collapsed": false,
    "ExecuteTime": {
     "end_time": "2023-11-09T08:46:41.156878400Z",
     "start_time": "2023-11-09T08:46:41.139875Z"
    }
   }
  },
  {
   "cell_type": "code",
   "execution_count": null,
   "outputs": [],
   "source": [],
   "metadata": {
    "collapsed": false
   }
  }
 ],
 "metadata": {
  "kernelspec": {
   "display_name": "Python 3",
   "language": "python",
   "name": "python3"
  },
  "language_info": {
   "codemirror_mode": {
    "name": "ipython",
    "version": 2
   },
   "file_extension": ".py",
   "mimetype": "text/x-python",
   "name": "python",
   "nbconvert_exporter": "python",
   "pygments_lexer": "ipython2",
   "version": "2.7.6"
  }
 },
 "nbformat": 4,
 "nbformat_minor": 0
}
