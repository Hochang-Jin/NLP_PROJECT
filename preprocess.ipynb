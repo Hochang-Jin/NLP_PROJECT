{
 "cells": [
  {
   "cell_type": "code",
   "execution_count": null,
   "metadata": {
    "collapsed": true
   },
   "outputs": [],
   "source": [
    "import csv\n",
    "import pandas as pd\n",
    "import re"
   ]
  },
  {
   "cell_type": "code",
   "execution_count": 70,
   "outputs": [],
   "source": [
    "f = open('../../data/low_eng.csv', 'r', encoding='utf-8-sig')\n",
    "reader = csv.reader(f)\n",
    "\n",
    "data = []\n",
    "for line in reader:\n",
    "    data.append(line)\n",
    "\n",
    "f.close()"
   ],
   "metadata": {
    "collapsed": false,
    "ExecuteTime": {
     "end_time": "2023-11-18T06:13:18.980646700Z",
     "start_time": "2023-11-18T06:13:18.963645800Z"
    }
   }
  },
  {
   "cell_type": "code",
   "execution_count": 72,
   "outputs": [
    {
     "data": {
      "text/plain": "[['그 여자 외모는 어때요?', 'What does she look like?'],\n ['그녀는 곱슬머리이다.', 'She has curly hair.'],\n ['그녀는 갈색 눈을 가지고 있다.', 'She has brown eyes.'],\n ['그녀는 키가 크고 예뻐요.', 'She is tall and pretty.'],\n ['그녀는 성격이 어때요?', 'What is she like?'],\n ['그녀는 매우 재미있어요.', 'She is very funny.'],\n ['그녀는 매우 활동적이에요.', 'She is very active.'],\n ['그녀는 매우 똑똑해요.', 'She is very smart.'],\n ['당신은 일요일에 무엇을 하나요?', 'What do you do on Sundays?'],\n ['나는 보통 도서관에 가.', 'I usually go to the library.'],\n ['나는 보통 자전거를 타.', 'I usually ride a bike.'],\n ['나는 보통 책을 읽어.', 'I usually read books.'],\n ['나는 보통 교회에 가.', 'I usually go to church.'],\n ['무슨 일이죠?', \"What's the matter?\"],\n ['머리가 아파요.', 'I have a headache.'],\n ['목이 아파요.', 'I have a sore throat.'],\n ['감기에 걸렸어요.', 'I have a cold.'],\n ['열이 있어요.', 'I have a fever.'],\n ['너의 생각은 어때?', 'What do you think?'],\n ['수영은 재미있어.', 'Swimming is fun.'],\n ['조깅은 재미있어.', 'Jogging is fun.'],\n ['제가 좀 도와 드릴까요?', 'Can I help you?'],\n ['제가 도와 드리죠.', 'Let me help you.'],\n ['제가 도와드릴까요?', 'Can I give you a hand?'],\n ['병원에 어떻게 가나요?', 'How do I get to the hospital?'],\n ['앞으로 계속 가세요.', 'Go straight.'],\n ['두 블록 걸어 가세요.', 'Walk two blocks.'],\n ['당신의 왼쪽에 있어요.', 'It is on your left.'],\n ['모퉁이에서 왼쪽으로 도세요.', 'Turn left at the corner.'],\n ['당신의 오른쪽에 있어요.', 'It is on your right.'],\n ['너는 어제 뭐했니?', 'What did you do yesterday?'],\n ['너는 지난주에 뭐했니?', 'What did you do last week?'],\n ['나는 수영하러 갔었어.', 'I went swimming.'],\n ['나는 낚시하러 갔었어.', 'I went fishing.'],\n ['이 스웨터는 얼마예요?', 'How much is this sweater?'],\n ['이 티셔츠는 얼마예요?', 'How much is this Tshirt?'],\n ['이 재킷은 얼마예요?', 'How much is this jacket?'],\n ['10달러예요.', 'It is ten dollars.'],\n ['호주의 철자가 어떻게 되나요?', 'How do you spell Australia?'],\n ['이거 입어 봐도 될까요?', 'Can I try this on?'],\n ['이걸로 할게요.', 'I will take it please.'],\n ['너는 무엇을 하고 싶니?', 'What do you want to do?'],\n ['나는 동물원에 가고 싶어.', 'I want to go to the zoo.'],\n ['나는 박물관에 가고 싶어.', 'I want to go to a museum.'],\n ['이것은 누구의 스케치북이니?', 'Whose sketchbook is this?'],\n ['이것은 누구의 크레용이니?', 'Whose crayon is this?'],\n ['이것은 누구의 색종이니?', 'Whose colored paper is this?'],\n ['테이블 위에 바나나가 있니?', 'Are there bananas on the table?'],\n ['탁자 위에 파인애플이 있니?', 'Are there pineapples on the table?'],\n ['탁자 위에 오렌지가 있니?', 'Are there oranges on the table?'],\n ['나는 영어 시험이 걱정돼.', 'I am worried about the English test.'],\n ['나는 성적이 걱정돼.', 'I am worried about my grades.'],\n ['나는 발표가 걱정돼.', 'I am worried about my presentation.'],\n ['걱정하지 마세요.', \"Don't worry.\"],\n ['포기하지 마세요.', \"Don't give up.\"],\n ['넌 잘 할 거야.', 'You will do fine.'],\n ['나도 그렇게 생각해.', 'I think so.'],\n ['나는 그렇게 생각하지 않아.', \"I don't think so.\"],\n ['방학 어떻게 보냈니?', 'How was your vacation?'],\n ['주말은 어떻게 보내셨어요?', 'How was your weekend?'],\n ['여행은 어땠어요?', 'How was your trip?'],\n ['즐거웠어요.', 'It was fun.'],\n ['굉장했어.', 'It was amazing.'],\n ['너무 지루했어.', 'It was so boring.'],\n ['제인과 통화할 수 있나요?', 'Can I speak to Jane please?'],\n ['전데요.\\xa0', 'This is she speaking.'],\n ['전화하신 분은 누구시죠?', 'Who is calling, please?'],\n ['전화 잘못 거셨어요.', 'You have the wrong number.'],\n ['잠시만 기다리세요.', 'Hold on please.'],\n ['제인 있나요?', 'Is Jane there?'],\n ['그녀는 집에 없다.', 'She is not at home.'],\n ['당신의 이름은 어떻게 쓰나요?', 'How do you spell your name?'],\n ['내일 뭐 할 거니?', 'What will you do tomorrow?'],\n ['나는 조부모님을 찾아뵐 거야.', 'I will visit my grandparents.'],\n ['나는 소풍을 갈 거야.', 'I will go on a picnic.'],\n ['나는 영화 보러 갈 거야.', 'I will go to a movie.'],\n ['나는 테니스를 칠 거야.', 'I will play tennis.'],\n ['너는 숙제를 해야 해.', 'You have to do your homework.'],\n ['너는 병원에 가봐야 해.', 'You have to see a doctor.'],\n ['너는 방 청소를 해야 해.', 'You have to clean your room.'],\n ['주문하시겠어요?', 'May I take your order?'],\n ['주문하시겠어요?', 'Are you ready to order?'],\n ['네, 아이스크림 하나 주세요.', 'Yes, I would like an ice cream.'],\n ['샌드위치 하나 주세요.', 'I would like a sandwich.'],\n ['너는 몇 시에 학교에 가니?', 'What time do you go to school?'],\n ['너는 몇 시에 숙제를 하니?', 'What time do you do your homework?'],\n ['일어날 시간이야.', 'It is time to get up.'],\n ['잠잘 시간이야.', \"It's time to go to bed.\"],\n ['운동은 얼마나 자주 하세요?', 'How often do you exercise?'],\n ['나는 매일 운동해.', 'I exercise every day.'],\n ['나는 일주일에 두 번 운동을 해.', 'I exercise twice a week.'],\n ['나는 한달에 한 번 운동을 해.', 'I exercise once a month.'],\n ['누가 이 그림을 그렸어요?', 'Who painted this picture?'],\n ['누가 문을 열었니?', 'Who opened the door?'],\n ['누가 바이올린을 연주했니?', 'Who played the violin?'],\n ['너는 왜 행복하니?', 'Why are you happy?'],\n ['왜냐하면 나는 새 자전거를 샀기 때문이다.', 'Because I bought a new bike.'],\n ['왜냐하면 새 카메라가 생겼기 때문이야.', 'Because I got a new camera.'],\n ['왜 화났어?', 'Why are you upset?'],\n ['왜냐하면 여동생이 내 시계를 망가뜨렸기 때문이야.', 'Because my sister broke my watch.'],\n ['왜 슬퍼하나요?', 'Why are you sad?'],\n ['왜 피곤해?', 'Why are you tired?'],\n ['어느 쪽이 더 크니?', 'Which is taller?'],\n ['기린은 호랑이보다 크다.', 'A giraffe is taller than a tiger.'],\n ['캥거루는 토끼보다 크다.', 'A kangaroo is bigger than a rabbit.'],\n ['사자는 원숭이보다 강하다.', 'A lion is stronger than a monkey.'],\n ['그 곰은 사슴보다 나이가 많다.', 'The bear is older than the deer.'],\n ['우리는 왜 종이를 재활용해야 하나요?', 'Why should we recycle paper?'],\n ['우리는 왜 플라스틱병을 재활용해야 하나요?', 'Why should we recycle plastic bottles?'],\n ['왜냐하면 우리는 우리의 환경을 살릴 수 있기 때문이에요.', 'Because we can save our environment.'],\n ['너 초밥에 대해 아는 거 있니?', 'Do you know anything about sushi?'],\n ['일본의 전통 음식이다.', 'It is a traditional Japanese dish.'],\n ['저는 모르겠어요.', 'I have no idea.'],\n ['당신은 무엇이 되고 싶습니까?', 'What do you want to be?'],\n ['과학자가 될 거예요.', 'I want to be a scientist.'],\n ['나는 경찰이 되고 싶다.', 'I want to be a police officer.'],\n ['나는 치과의사가 되고 싶어.', 'I want to be a dentist.']]"
     },
     "execution_count": 72,
     "metadata": {},
     "output_type": "execute_result"
    }
   ],
   "source": [
    "data"
   ],
   "metadata": {
    "collapsed": false,
    "ExecuteTime": {
     "end_time": "2023-11-18T06:13:29.416375600Z",
     "start_time": "2023-11-18T06:13:29.408373800Z"
    }
   }
  },
  {
   "cell_type": "code",
   "execution_count": 74,
   "outputs": [
    {
     "name": "stdout",
     "output_type": "stream",
     "text": [
      "246\n"
     ]
    }
   ],
   "source": [
    "from NMT import eng_list\n"
   ],
   "metadata": {
    "collapsed": false,
    "ExecuteTime": {
     "end_time": "2023-11-18T08:37:28.470884500Z",
     "start_time": "2023-11-18T08:37:28.456881700Z"
    }
   }
  },
  {
   "cell_type": "code",
   "execution_count": 75,
   "outputs": [
    {
     "data": {
      "text/plain": "246"
     },
     "execution_count": 75,
     "metadata": {},
     "output_type": "execute_result"
    }
   ],
   "source": [
    "len(eng_list)"
   ],
   "metadata": {
    "collapsed": false,
    "ExecuteTime": {
     "end_time": "2023-11-18T08:37:39.515076700Z",
     "start_time": "2023-11-18T08:37:39.501073600Z"
    }
   }
  },
  {
   "cell_type": "code",
   "execution_count": null,
   "outputs": [],
   "source": [],
   "metadata": {
    "collapsed": false
   }
  }
 ],
 "metadata": {
  "kernelspec": {
   "display_name": "Python 3",
   "language": "python",
   "name": "python3"
  },
  "language_info": {
   "codemirror_mode": {
    "name": "ipython",
    "version": 2
   },
   "file_extension": ".py",
   "mimetype": "text/x-python",
   "name": "python",
   "nbconvert_exporter": "python",
   "pygments_lexer": "ipython2",
   "version": "2.7.6"
  }
 },
 "nbformat": 4,
 "nbformat_minor": 0
}
